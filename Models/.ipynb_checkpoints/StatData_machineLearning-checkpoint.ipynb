{
 "cells": [
  {
   "cell_type": "code",
   "execution_count": 1,
   "id": "2ced74e5",
   "metadata": {},
   "outputs": [],
   "source": [
    "import numpy as np\n",
    "import pandas as pd\n",
    "import matplotlib.pyplot as plt\n",
    "import seaborn as sns"
   ]
  },
  {
   "cell_type": "markdown",
   "id": "99966f0a",
   "metadata": {},
   "source": [
    "# Readting the Data"
   ]
  },
  {
   "cell_type": "code",
   "execution_count": 49,
   "id": "1ab95f25",
   "metadata": {},
   "outputs": [
    {
     "data": {
      "text/html": [
       "<div>\n",
       "<style scoped>\n",
       "    .dataframe tbody tr th:only-of-type {\n",
       "        vertical-align: middle;\n",
       "    }\n",
       "\n",
       "    .dataframe tbody tr th {\n",
       "        vertical-align: top;\n",
       "    }\n",
       "\n",
       "    .dataframe thead th {\n",
       "        text-align: right;\n",
       "    }\n",
       "</style>\n",
       "<table border=\"1\" class=\"dataframe\">\n",
       "  <thead>\n",
       "    <tr style=\"text-align: right;\">\n",
       "      <th></th>\n",
       "      <th>Unnamed: 0</th>\n",
       "      <th>date</th>\n",
       "      <th>continent</th>\n",
       "      <th>location</th>\n",
       "      <th>total_cases</th>\n",
       "      <th>total_deaths</th>\n",
       "      <th>total_cases_per_million</th>\n",
       "      <th>total_deaths_per_million</th>\n",
       "      <th>total_vaccinations_per_hundred</th>\n",
       "      <th>population</th>\n",
       "      <th>population_density</th>\n",
       "      <th>diabetes_prevalence</th>\n",
       "      <th>female_smokers</th>\n",
       "      <th>male_smokers</th>\n",
       "      <th>gdp_per_capita</th>\n",
       "      <th>extreme_poverty</th>\n",
       "      <th>hospital_beds_per_thousand</th>\n",
       "      <th>life_expectancy</th>\n",
       "      <th>human_development_index</th>\n",
       "    </tr>\n",
       "  </thead>\n",
       "  <tbody>\n",
       "    <tr>\n",
       "      <th>0</th>\n",
       "      <td>179882</td>\n",
       "      <td>2022-04-18</td>\n",
       "      <td>Africa</td>\n",
       "      <td>Zimbabwe</td>\n",
       "      <td>247297.0</td>\n",
       "      <td>5464.0</td>\n",
       "      <td>16385.780</td>\n",
       "      <td>362.042</td>\n",
       "      <td>67.27</td>\n",
       "      <td>1.509217e+07</td>\n",
       "      <td>42.729</td>\n",
       "      <td>1.82</td>\n",
       "      <td>1.6</td>\n",
       "      <td>30.7</td>\n",
       "      <td>1899.775</td>\n",
       "      <td>21.4</td>\n",
       "      <td>1.700</td>\n",
       "      <td>61.49</td>\n",
       "      <td>0.571</td>\n",
       "    </tr>\n",
       "    <tr>\n",
       "      <th>1</th>\n",
       "      <td>25657</td>\n",
       "      <td>2022-04-18</td>\n",
       "      <td>Europe</td>\n",
       "      <td>Bulgaria</td>\n",
       "      <td>1150342.0</td>\n",
       "      <td>36810.0</td>\n",
       "      <td>166797.092</td>\n",
       "      <td>5337.370</td>\n",
       "      <td>63.40</td>\n",
       "      <td>6.896655e+06</td>\n",
       "      <td>65.180</td>\n",
       "      <td>5.81</td>\n",
       "      <td>30.1</td>\n",
       "      <td>44.4</td>\n",
       "      <td>18563.307</td>\n",
       "      <td>1.5</td>\n",
       "      <td>7.454</td>\n",
       "      <td>75.05</td>\n",
       "      <td>0.816</td>\n",
       "    </tr>\n",
       "    <tr>\n",
       "      <th>2</th>\n",
       "      <td>124882</td>\n",
       "      <td>2022-04-18</td>\n",
       "      <td>Asia</td>\n",
       "      <td>Pakistan</td>\n",
       "      <td>1527411.0</td>\n",
       "      <td>30364.0</td>\n",
       "      <td>6782.467</td>\n",
       "      <td>134.831</td>\n",
       "      <td>108.60</td>\n",
       "      <td>2.251999e+08</td>\n",
       "      <td>255.573</td>\n",
       "      <td>8.35</td>\n",
       "      <td>2.8</td>\n",
       "      <td>36.7</td>\n",
       "      <td>5034.708</td>\n",
       "      <td>4.0</td>\n",
       "      <td>0.600</td>\n",
       "      <td>67.27</td>\n",
       "      <td>0.557</td>\n",
       "    </tr>\n",
       "    <tr>\n",
       "      <th>3</th>\n",
       "      <td>122498</td>\n",
       "      <td>2022-04-18</td>\n",
       "      <td>Europe</td>\n",
       "      <td>Norway</td>\n",
       "      <td>1420033.0</td>\n",
       "      <td>2783.0</td>\n",
       "      <td>259811.451</td>\n",
       "      <td>509.182</td>\n",
       "      <td>206.46</td>\n",
       "      <td>5.465629e+06</td>\n",
       "      <td>14.462</td>\n",
       "      <td>5.31</td>\n",
       "      <td>19.6</td>\n",
       "      <td>20.7</td>\n",
       "      <td>64800.057</td>\n",
       "      <td>0.2</td>\n",
       "      <td>3.600</td>\n",
       "      <td>82.40</td>\n",
       "      <td>0.957</td>\n",
       "    </tr>\n",
       "    <tr>\n",
       "      <th>4</th>\n",
       "      <td>34237</td>\n",
       "      <td>2022-04-18</td>\n",
       "      <td>Asia</td>\n",
       "      <td>China</td>\n",
       "      <td>630678.0</td>\n",
       "      <td>4648.0</td>\n",
       "      <td>436.692</td>\n",
       "      <td>3.218</td>\n",
       "      <td>229.71</td>\n",
       "      <td>1.444216e+09</td>\n",
       "      <td>147.674</td>\n",
       "      <td>9.74</td>\n",
       "      <td>1.9</td>\n",
       "      <td>48.4</td>\n",
       "      <td>15308.712</td>\n",
       "      <td>0.7</td>\n",
       "      <td>4.340</td>\n",
       "      <td>76.91</td>\n",
       "      <td>0.761</td>\n",
       "    </tr>\n",
       "  </tbody>\n",
       "</table>\n",
       "</div>"
      ],
      "text/plain": [
       "   Unnamed: 0        date continent  location  total_cases  total_deaths  \\\n",
       "0      179882  2022-04-18    Africa  Zimbabwe     247297.0        5464.0   \n",
       "1       25657  2022-04-18    Europe  Bulgaria    1150342.0       36810.0   \n",
       "2      124882  2022-04-18      Asia  Pakistan    1527411.0       30364.0   \n",
       "3      122498  2022-04-18    Europe    Norway    1420033.0        2783.0   \n",
       "4       34237  2022-04-18      Asia     China     630678.0        4648.0   \n",
       "\n",
       "   total_cases_per_million  total_deaths_per_million  \\\n",
       "0                16385.780                   362.042   \n",
       "1               166797.092                  5337.370   \n",
       "2                 6782.467                   134.831   \n",
       "3               259811.451                   509.182   \n",
       "4                  436.692                     3.218   \n",
       "\n",
       "   total_vaccinations_per_hundred    population  population_density  \\\n",
       "0                           67.27  1.509217e+07              42.729   \n",
       "1                           63.40  6.896655e+06              65.180   \n",
       "2                          108.60  2.251999e+08             255.573   \n",
       "3                          206.46  5.465629e+06              14.462   \n",
       "4                          229.71  1.444216e+09             147.674   \n",
       "\n",
       "   diabetes_prevalence  female_smokers  male_smokers  gdp_per_capita  \\\n",
       "0                 1.82             1.6          30.7        1899.775   \n",
       "1                 5.81            30.1          44.4       18563.307   \n",
       "2                 8.35             2.8          36.7        5034.708   \n",
       "3                 5.31            19.6          20.7       64800.057   \n",
       "4                 9.74             1.9          48.4       15308.712   \n",
       "\n",
       "   extreme_poverty  hospital_beds_per_thousand  life_expectancy  \\\n",
       "0             21.4                       1.700            61.49   \n",
       "1              1.5                       7.454            75.05   \n",
       "2              4.0                       0.600            67.27   \n",
       "3              0.2                       3.600            82.40   \n",
       "4              0.7                       4.340            76.91   \n",
       "\n",
       "   human_development_index  \n",
       "0                    0.571  \n",
       "1                    0.816  \n",
       "2                    0.557  \n",
       "3                    0.957  \n",
       "4                    0.761  "
      ]
     },
     "execution_count": 49,
     "metadata": {},
     "output_type": "execute_result"
    }
   ],
   "source": [
    "data = pd.read_csv(\"../DataSets/StatData.csv\")\n",
    "data.head()"
   ]
  },
  {
   "cell_type": "code",
   "execution_count": 50,
   "id": "d69f287a",
   "metadata": {},
   "outputs": [
    {
     "data": {
      "text/plain": [
       "<AxesSubplot:>"
      ]
     },
     "execution_count": 50,
     "metadata": {},
     "output_type": "execute_result"
    },
    {
     "data": {
      "image/png": "[encoded data removed]",
      "text/plain": [
       "<Figure size 432x288 with 2 Axes>"
      ]
     },
     "metadata": {
      "needs_background": "light"
     },
     "output_type": "display_data"
    }
   ],
   "source": [
    "sns.heatmap(data.corr())"
   ]
  },
  {
   "cell_type": "markdown",
   "id": "b2fdc0cb",
   "metadata": {},
   "source": [
    "# Preparing data for Machine Learning"
   ]
  },
  {
   "cell_type": "code",
   "execution_count": 51,
   "id": "4d1b3e4a",
   "metadata": {},
   "outputs": [
    {
     "data": {
      "text/html": [
       "<div>\n",
       "<style scoped>\n",
       "    .dataframe tbody tr th:only-of-type {\n",
       "        vertical-align: middle;\n",
       "    }\n",
       "\n",
       "    .dataframe tbody tr th {\n",
       "        vertical-align: top;\n",
       "    }\n",
       "\n",
       "    .dataframe thead th {\n",
       "        text-align: right;\n",
       "    }\n",
       "</style>\n",
       "<table border=\"1\" class=\"dataframe\">\n",
       "  <thead>\n",
       "    <tr style=\"text-align: right;\">\n",
       "      <th></th>\n",
       "      <th>total_cases</th>\n",
       "      <th>total_cases_per_million</th>\n",
       "      <th>total_vaccinations_per_hundred</th>\n",
       "      <th>population</th>\n",
       "      <th>population_density</th>\n",
       "      <th>diabetes_prevalence</th>\n",
       "      <th>female_smokers</th>\n",
       "      <th>male_smokers</th>\n",
       "      <th>gdp_per_capita</th>\n",
       "      <th>extreme_poverty</th>\n",
       "      <th>hospital_beds_per_thousand</th>\n",
       "      <th>life_expectancy</th>\n",
       "      <th>human_development_index</th>\n",
       "    </tr>\n",
       "  </thead>\n",
       "  <tbody>\n",
       "    <tr>\n",
       "      <th>0</th>\n",
       "      <td>247297.0</td>\n",
       "      <td>16385.780</td>\n",
       "      <td>67.27</td>\n",
       "      <td>1.509217e+07</td>\n",
       "      <td>42.729</td>\n",
       "      <td>1.82</td>\n",
       "      <td>1.6</td>\n",
       "      <td>30.7</td>\n",
       "      <td>1899.775</td>\n",
       "      <td>21.4</td>\n",
       "      <td>1.700</td>\n",
       "      <td>61.49</td>\n",
       "      <td>0.571</td>\n",
       "    </tr>\n",
       "    <tr>\n",
       "      <th>1</th>\n",
       "      <td>1150342.0</td>\n",
       "      <td>166797.092</td>\n",
       "      <td>63.40</td>\n",
       "      <td>6.896655e+06</td>\n",
       "      <td>65.180</td>\n",
       "      <td>5.81</td>\n",
       "      <td>30.1</td>\n",
       "      <td>44.4</td>\n",
       "      <td>18563.307</td>\n",
       "      <td>1.5</td>\n",
       "      <td>7.454</td>\n",
       "      <td>75.05</td>\n",
       "      <td>0.816</td>\n",
       "    </tr>\n",
       "    <tr>\n",
       "      <th>2</th>\n",
       "      <td>1527411.0</td>\n",
       "      <td>6782.467</td>\n",
       "      <td>108.60</td>\n",
       "      <td>2.251999e+08</td>\n",
       "      <td>255.573</td>\n",
       "      <td>8.35</td>\n",
       "      <td>2.8</td>\n",
       "      <td>36.7</td>\n",
       "      <td>5034.708</td>\n",
       "      <td>4.0</td>\n",
       "      <td>0.600</td>\n",
       "      <td>67.27</td>\n",
       "      <td>0.557</td>\n",
       "    </tr>\n",
       "    <tr>\n",
       "      <th>3</th>\n",
       "      <td>1420033.0</td>\n",
       "      <td>259811.451</td>\n",
       "      <td>206.46</td>\n",
       "      <td>5.465629e+06</td>\n",
       "      <td>14.462</td>\n",
       "      <td>5.31</td>\n",
       "      <td>19.6</td>\n",
       "      <td>20.7</td>\n",
       "      <td>64800.057</td>\n",
       "      <td>0.2</td>\n",
       "      <td>3.600</td>\n",
       "      <td>82.40</td>\n",
       "      <td>0.957</td>\n",
       "    </tr>\n",
       "    <tr>\n",
       "      <th>4</th>\n",
       "      <td>630678.0</td>\n",
       "      <td>436.692</td>\n",
       "      <td>229.71</td>\n",
       "      <td>1.444216e+09</td>\n",
       "      <td>147.674</td>\n",
       "      <td>9.74</td>\n",
       "      <td>1.9</td>\n",
       "      <td>48.4</td>\n",
       "      <td>15308.712</td>\n",
       "      <td>0.7</td>\n",
       "      <td>4.340</td>\n",
       "      <td>76.91</td>\n",
       "      <td>0.761</td>\n",
       "    </tr>\n",
       "  </tbody>\n",
       "</table>\n",
       "</div>"
      ],
      "text/plain": [
       "   total_cases  total_cases_per_million  total_vaccinations_per_hundred  \\\n",
       "0     247297.0                16385.780                           67.27   \n",
       "1    1150342.0               166797.092                           63.40   \n",
       "2    1527411.0                 6782.467                          108.60   \n",
       "3    1420033.0               259811.451                          206.46   \n",
       "4     630678.0                  436.692                          229.71   \n",
       "\n",
       "     population  population_density  diabetes_prevalence  female_smokers  \\\n",
       "0  1.509217e+07              42.729                 1.82             1.6   \n",
       "1  6.896655e+06              65.180                 5.81            30.1   \n",
       "2  2.251999e+08             255.573                 8.35             2.8   \n",
       "3  5.465629e+06              14.462                 5.31            19.6   \n",
       "4  1.444216e+09             147.674                 9.74             1.9   \n",
       "\n",
       "   male_smokers  gdp_per_capita  extreme_poverty  hospital_beds_per_thousand  \\\n",
       "0          30.7        1899.775             21.4                       1.700   \n",
       "1          44.4       18563.307              1.5                       7.454   \n",
       "2          36.7        5034.708              4.0                       0.600   \n",
       "3          20.7       64800.057              0.2                       3.600   \n",
       "4          48.4       15308.712              0.7                       4.340   \n",
       "\n",
       "   life_expectancy  human_development_index  \n",
       "0            61.49                    0.571  \n",
       "1            75.05                    0.816  \n",
       "2            67.27                    0.557  \n",
       "3            82.40                    0.957  \n",
       "4            76.91                    0.761  "
      ]
     },
     "execution_count": 51,
     "metadata": {},
     "output_type": "execute_result"
    }
   ],
   "source": [
    "data.drop(\"Unnamed: 0\", axis = 1, inplace = True)\n",
    "X = data\n",
    "y = np.array(data['total_cases_per_million'])\n",
    "X.drop(\"total_deaths_per_million\", axis = 1, inplace = True)\n",
    "X.drop(\"total_deaths\", axis = 1, inplace = True)\n",
    "X.drop(\"date\", axis = 1, inplace = True)\n",
    "X.drop(\"continent\", axis = 1, inplace = True)\n",
    "X.drop(\"location\", axis = 1, inplace = True)\n",
    "X.head()"
   ]
  },
  {
   "cell_type": "code",
   "execution_count": 55,
   "id": "f6512fea",
   "metadata": {},
   "outputs": [
    {
     "name": "stdout",
     "output_type": "stream",
     "text": [
      "(39, 13) (39, 1)\n"
     ]
    }
   ],
   "source": [
    "from sklearn.preprocessing import MinMaxScaler\n",
    "scaler = StandardScaler()\n",
    "scaled_data_x = scaler.fit_transform(X)\n",
    "scaled_data_y = scaler.fit_transform(y.reshape(-1, 1))\n",
    "print(scaled_data_x.shape, scaled_data_y.shape)"
   ]
  },
  {
   "cell_type": "code",
   "execution_count": 56,
   "id": "1836f8c4",
   "metadata": {},
   "outputs": [],
   "source": [
    "from sklearn.model_selection import train_test_split\n",
    "X_train, X_test, y_train, y_test = train_test_split(X, y, test_size = 0.2, random_state = 42)"
   ]
  },
  {
   "cell_type": "markdown",
   "id": "357cb35b",
   "metadata": {},
   "source": [
    "# Creating LinearRegression Model"
   ]
  },
  {
   "cell_type": "code",
   "execution_count": 57,
   "id": "0bcac13b",
   "metadata": {},
   "outputs": [],
   "source": [
    "from sklearn.linear_model import LinearRegression\n",
    "model = LinearRegression()\n",
    "model.fit(X_train, y_train)\n",
    "y_pred = model.predict(X_test)"
   ]
  },
  {
   "cell_type": "code",
   "execution_count": 59,
   "id": "8822e416",
   "metadata": {},
   "outputs": [
    {
     "name": "stdout",
     "output_type": "stream",
     "text": [
      "mse : 9.24727768809246e-15\n",
      "r2 : 1.0\n"
     ]
    }
   ],
   "source": [
    "from sklearn.metrics import mean_squared_error, r2_score\n",
    "print (f\"mse : {mean_squared_error(y_pred, y_test)}\")\n",
    "print (f\"r2 : {r2_score(y_pred, y_test)}\")"
   ]
  },
  {
   "cell_type": "code",
   "execution_count": 61,
   "id": "2dddf024",
   "metadata": {},
   "outputs": [
    {
     "data": {
      "text/plain": [
       "[<matplotlib.lines.Line2D at 0x7fa06498a700>]"
      ]
     },
     "execution_count": 61,
     "metadata": {},
     "output_type": "execute_result"
    },
    {
     "data": {
      "image/png": "[encoded data removed]",
      "text/plain": [
       "<Figure size 432x288 with 1 Axes>"
      ]
     },
     "metadata": {
      "needs_background": "light"
     },
     "output_type": "display_data"
    }
   ],
   "source": [
    "plt.plot(y_pred, y_test)"
   ]
  }
 ],
 "metadata": {
  "kernelspec": {
   "display_name": "Python 3 (ipykernel)",
   "language": "python",
   "name": "python3"
  },
  "language_info": {
   "codemirror_mode": {
    "name": "ipython",
    "version": 3
   },
   "file_extension": ".py",
   "mimetype": "text/x-python",
   "name": "python",
   "nbconvert_exporter": "python",
   "pygments_lexer": "ipython3",
   "version": "3.8.5"
  }
 },
 "nbformat": 4,
 "nbformat_minor": 5
}
