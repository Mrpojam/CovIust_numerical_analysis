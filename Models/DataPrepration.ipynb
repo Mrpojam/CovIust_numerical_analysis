{
 "cells": [
  {
   "cell_type": "code",
   "execution_count": 47,
   "id": "09b80147",
   "metadata": {},
   "outputs": [],
   "source": [
    "import numpy as np\n",
    "import pandas as pd\n",
    "import matplotlib.pyplot as plt"
   ]
  },
  {
   "cell_type": "markdown",
   "id": "95ec0de4",
   "metadata": {},
   "source": [
    "# Loading the Data"
   ]
  },
  {
   "cell_type": "code",
   "execution_count": 48,
   "id": "6923cbfe",
   "metadata": {},
   "outputs": [
    {
     "data": {
      "text/html": [
       "<div>\n",
       "<style scoped>\n",
       "    .dataframe tbody tr th:only-of-type {\n",
       "        vertical-align: middle;\n",
       "    }\n",
       "\n",
       "    .dataframe tbody tr th {\n",
       "        vertical-align: top;\n",
       "    }\n",
       "\n",
       "    .dataframe thead th {\n",
       "        text-align: right;\n",
       "    }\n",
       "</style>\n",
       "<table border=\"1\" class=\"dataframe\">\n",
       "  <thead>\n",
       "    <tr style=\"text-align: right;\">\n",
       "      <th></th>\n",
       "      <th>iso_code</th>\n",
       "      <th>continent</th>\n",
       "      <th>location</th>\n",
       "      <th>date</th>\n",
       "      <th>total_cases</th>\n",
       "      <th>new_cases</th>\n",
       "      <th>new_cases_smoothed</th>\n",
       "      <th>total_deaths</th>\n",
       "      <th>new_deaths</th>\n",
       "      <th>new_deaths_smoothed</th>\n",
       "      <th>...</th>\n",
       "      <th>female_smokers</th>\n",
       "      <th>male_smokers</th>\n",
       "      <th>handwashing_facilities</th>\n",
       "      <th>hospital_beds_per_thousand</th>\n",
       "      <th>life_expectancy</th>\n",
       "      <th>human_development_index</th>\n",
       "      <th>excess_mortality_cumulative_absolute</th>\n",
       "      <th>excess_mortality_cumulative</th>\n",
       "      <th>excess_mortality</th>\n",
       "      <th>excess_mortality_cumulative_per_million</th>\n",
       "    </tr>\n",
       "  </thead>\n",
       "  <tbody>\n",
       "    <tr>\n",
       "      <th>0</th>\n",
       "      <td>AFG</td>\n",
       "      <td>Asia</td>\n",
       "      <td>Afghanistan</td>\n",
       "      <td>2020-02-24</td>\n",
       "      <td>5.0</td>\n",
       "      <td>5.0</td>\n",
       "      <td>NaN</td>\n",
       "      <td>NaN</td>\n",
       "      <td>NaN</td>\n",
       "      <td>NaN</td>\n",
       "      <td>...</td>\n",
       "      <td>NaN</td>\n",
       "      <td>NaN</td>\n",
       "      <td>37.746</td>\n",
       "      <td>0.5</td>\n",
       "      <td>64.83</td>\n",
       "      <td>0.511</td>\n",
       "      <td>NaN</td>\n",
       "      <td>NaN</td>\n",
       "      <td>NaN</td>\n",
       "      <td>NaN</td>\n",
       "    </tr>\n",
       "    <tr>\n",
       "      <th>1</th>\n",
       "      <td>AFG</td>\n",
       "      <td>Asia</td>\n",
       "      <td>Afghanistan</td>\n",
       "      <td>2020-02-25</td>\n",
       "      <td>5.0</td>\n",
       "      <td>0.0</td>\n",
       "      <td>NaN</td>\n",
       "      <td>NaN</td>\n",
       "      <td>NaN</td>\n",
       "      <td>NaN</td>\n",
       "      <td>...</td>\n",
       "      <td>NaN</td>\n",
       "      <td>NaN</td>\n",
       "      <td>37.746</td>\n",
       "      <td>0.5</td>\n",
       "      <td>64.83</td>\n",
       "      <td>0.511</td>\n",
       "      <td>NaN</td>\n",
       "      <td>NaN</td>\n",
       "      <td>NaN</td>\n",
       "      <td>NaN</td>\n",
       "    </tr>\n",
       "    <tr>\n",
       "      <th>2</th>\n",
       "      <td>AFG</td>\n",
       "      <td>Asia</td>\n",
       "      <td>Afghanistan</td>\n",
       "      <td>2020-02-26</td>\n",
       "      <td>5.0</td>\n",
       "      <td>0.0</td>\n",
       "      <td>NaN</td>\n",
       "      <td>NaN</td>\n",
       "      <td>NaN</td>\n",
       "      <td>NaN</td>\n",
       "      <td>...</td>\n",
       "      <td>NaN</td>\n",
       "      <td>NaN</td>\n",
       "      <td>37.746</td>\n",
       "      <td>0.5</td>\n",
       "      <td>64.83</td>\n",
       "      <td>0.511</td>\n",
       "      <td>NaN</td>\n",
       "      <td>NaN</td>\n",
       "      <td>NaN</td>\n",
       "      <td>NaN</td>\n",
       "    </tr>\n",
       "    <tr>\n",
       "      <th>3</th>\n",
       "      <td>AFG</td>\n",
       "      <td>Asia</td>\n",
       "      <td>Afghanistan</td>\n",
       "      <td>2020-02-27</td>\n",
       "      <td>5.0</td>\n",
       "      <td>0.0</td>\n",
       "      <td>NaN</td>\n",
       "      <td>NaN</td>\n",
       "      <td>NaN</td>\n",
       "      <td>NaN</td>\n",
       "      <td>...</td>\n",
       "      <td>NaN</td>\n",
       "      <td>NaN</td>\n",
       "      <td>37.746</td>\n",
       "      <td>0.5</td>\n",
       "      <td>64.83</td>\n",
       "      <td>0.511</td>\n",
       "      <td>NaN</td>\n",
       "      <td>NaN</td>\n",
       "      <td>NaN</td>\n",
       "      <td>NaN</td>\n",
       "    </tr>\n",
       "    <tr>\n",
       "      <th>4</th>\n",
       "      <td>AFG</td>\n",
       "      <td>Asia</td>\n",
       "      <td>Afghanistan</td>\n",
       "      <td>2020-02-28</td>\n",
       "      <td>5.0</td>\n",
       "      <td>0.0</td>\n",
       "      <td>NaN</td>\n",
       "      <td>NaN</td>\n",
       "      <td>NaN</td>\n",
       "      <td>NaN</td>\n",
       "      <td>...</td>\n",
       "      <td>NaN</td>\n",
       "      <td>NaN</td>\n",
       "      <td>37.746</td>\n",
       "      <td>0.5</td>\n",
       "      <td>64.83</td>\n",
       "      <td>0.511</td>\n",
       "      <td>NaN</td>\n",
       "      <td>NaN</td>\n",
       "      <td>NaN</td>\n",
       "      <td>NaN</td>\n",
       "    </tr>\n",
       "  </tbody>\n",
       "</table>\n",
       "<p>5 rows × 67 columns</p>\n",
       "</div>"
      ],
      "text/plain": [
       "  iso_code continent     location        date  total_cases  new_cases  \\\n",
       "0      AFG      Asia  Afghanistan  2020-02-24          5.0        5.0   \n",
       "1      AFG      Asia  Afghanistan  2020-02-25          5.0        0.0   \n",
       "2      AFG      Asia  Afghanistan  2020-02-26          5.0        0.0   \n",
       "3      AFG      Asia  Afghanistan  2020-02-27          5.0        0.0   \n",
       "4      AFG      Asia  Afghanistan  2020-02-28          5.0        0.0   \n",
       "\n",
       "   new_cases_smoothed  total_deaths  new_deaths  new_deaths_smoothed  ...  \\\n",
       "0                 NaN           NaN         NaN                  NaN  ...   \n",
       "1                 NaN           NaN         NaN                  NaN  ...   \n",
       "2                 NaN           NaN         NaN                  NaN  ...   \n",
       "3                 NaN           NaN         NaN                  NaN  ...   \n",
       "4                 NaN           NaN         NaN                  NaN  ...   \n",
       "\n",
       "   female_smokers  male_smokers  handwashing_facilities  \\\n",
       "0             NaN           NaN                  37.746   \n",
       "1             NaN           NaN                  37.746   \n",
       "2             NaN           NaN                  37.746   \n",
       "3             NaN           NaN                  37.746   \n",
       "4             NaN           NaN                  37.746   \n",
       "\n",
       "   hospital_beds_per_thousand  life_expectancy  human_development_index  \\\n",
       "0                         0.5            64.83                    0.511   \n",
       "1                         0.5            64.83                    0.511   \n",
       "2                         0.5            64.83                    0.511   \n",
       "3                         0.5            64.83                    0.511   \n",
       "4                         0.5            64.83                    0.511   \n",
       "\n",
       "   excess_mortality_cumulative_absolute  excess_mortality_cumulative  \\\n",
       "0                                   NaN                          NaN   \n",
       "1                                   NaN                          NaN   \n",
       "2                                   NaN                          NaN   \n",
       "3                                   NaN                          NaN   \n",
       "4                                   NaN                          NaN   \n",
       "\n",
       "   excess_mortality  excess_mortality_cumulative_per_million  \n",
       "0               NaN                                      NaN  \n",
       "1               NaN                                      NaN  \n",
       "2               NaN                                      NaN  \n",
       "3               NaN                                      NaN  \n",
       "4               NaN                                      NaN  \n",
       "\n",
       "[5 rows x 67 columns]"
      ]
     },
     "execution_count": 48,
     "metadata": {},
     "output_type": "execute_result"
    }
   ],
   "source": [
    "data = pd.read_csv(\"owid-covid-data.csv\")\n",
    "data.head()"
   ]
  },
  {
   "cell_type": "code",
   "execution_count": 49,
   "id": "3cca45e9",
   "metadata": {},
   "outputs": [],
   "source": [
    "spain_data = data[data['location'] == 'Spain']\n",
    "germany_data = data[data['location'] == 'Germany']\n",
    "france_data = data[data['location'] == 'France']\n",
    "australia_data = data[data['location'] == 'Australia']\n",
    "iran_data = data[data['location'] == 'Iran']\n",
    "canada_data = data[data['location'] == 'Egypt']"
   ]
  },
  {
   "cell_type": "markdown",
   "id": "e4471159",
   "metadata": {},
   "source": [
    "# Data Preprocessing"
   ]
  },
  {
   "cell_type": "code",
   "execution_count": 5,
   "id": "58dd9aa0",
   "metadata": {},
   "outputs": [
    {
     "data": {
      "text/plain": [
       "Index(['iso_code', 'continent', 'location', 'date', 'total_cases', 'new_cases',\n",
       "       'new_cases_smoothed', 'total_deaths', 'new_deaths',\n",
       "       'new_deaths_smoothed', 'total_cases_per_million',\n",
       "       'new_cases_per_million', 'new_cases_smoothed_per_million',\n",
       "       'total_deaths_per_million', 'new_deaths_per_million',\n",
       "       'new_deaths_smoothed_per_million', 'reproduction_rate', 'icu_patients',\n",
       "       'icu_patients_per_million', 'hosp_patients',\n",
       "       'hosp_patients_per_million', 'weekly_icu_admissions',\n",
       "       'weekly_icu_admissions_per_million', 'weekly_hosp_admissions',\n",
       "       'weekly_hosp_admissions_per_million', 'total_tests', 'new_tests',\n",
       "       'total_tests_per_thousand', 'new_tests_per_thousand',\n",
       "       'new_tests_smoothed', 'new_tests_smoothed_per_thousand',\n",
       "       'positive_rate', 'tests_per_case', 'tests_units', 'total_vaccinations',\n",
       "       'people_vaccinated', 'people_fully_vaccinated', 'total_boosters',\n",
       "       'new_vaccinations', 'new_vaccinations_smoothed',\n",
       "       'total_vaccinations_per_hundred', 'people_vaccinated_per_hundred',\n",
       "       'people_fully_vaccinated_per_hundred', 'total_boosters_per_hundred',\n",
       "       'new_vaccinations_smoothed_per_million',\n",
       "       'new_people_vaccinated_smoothed',\n",
       "       'new_people_vaccinated_smoothed_per_hundred', 'stringency_index',\n",
       "       'population', 'population_density', 'median_age', 'aged_65_older',\n",
       "       'aged_70_older', 'gdp_per_capita', 'extreme_poverty',\n",
       "       'cardiovasc_death_rate', 'diabetes_prevalence', 'female_smokers',\n",
       "       'male_smokers', 'handwashing_facilities', 'hospital_beds_per_thousand',\n",
       "       'life_expectancy', 'human_development_index',\n",
       "       'excess_mortality_cumulative_absolute', 'excess_mortality_cumulative',\n",
       "       'excess_mortality', 'excess_mortality_cumulative_per_million'],\n",
       "      dtype='object')"
      ]
     },
     "execution_count": 5,
     "metadata": {},
     "output_type": "execute_result"
    }
   ],
   "source": [
    "spain_data.columns"
   ]
  },
  {
   "cell_type": "code",
   "execution_count": 38,
   "id": "7bdd8983",
   "metadata": {},
   "outputs": [],
   "source": [
    "statistical_columns = ['population', 'population_density', 'total_cases', 'total_deaths',\n",
    "'gdp_per_capita', 'human_development_index', 'diabetes_prevalence', 'female_smokers', 'male_smokers', 'hospital_beds_per_thousand']\n",
    "timeseries_columns = ['date', 'total_cases', 'new_cases', 'total_deaths', 'new_deaths', 'total_tests', 'new_tests', 'people_vaccinated', 'people_fully_vaccinated', 'new_vaccinations']"
   ]
  },
  {
   "cell_type": "code",
   "execution_count": 33,
   "id": "2720e385",
   "metadata": {},
   "outputs": [],
   "source": [
    "statistical_data_spain = spain_data[statistical_columns].iloc[-1]\n",
    "statistical_data_spain['country'] = 'spain'\n",
    "statistical_data_germany = germany_data[statistical_columns].iloc[-1]\n",
    "statistical_data_germany['country'] = 'germany'\n",
    "statistical_data_france = france_data[statistical_columns].iloc[-1]\n",
    "statistical_data_france['country'] = 'france'\n",
    "statistical_data_australia = australia_data[statistical_columns].iloc[-1]\n",
    "statistical_data_australia['country'] = 'australlia'\n",
    "\n",
    "statistical_data_iran = iran_data[statistical_columns].iloc[-1]\n",
    "statistical_data_iran['country'] = 'iran'\n",
    "\n",
    "statistical_data_canada = canada_data[statistical_columns].iloc[-1]\n",
    "statistical_data_canada['country'] = 'egypt'\n"
   ]
  },
  {
   "cell_type": "code",
   "execution_count": 34,
   "id": "4065c58b",
   "metadata": {},
   "outputs": [
    {
     "data": {
      "text/plain": [
       "population                    46745211.0\n",
       "population_density                93.105\n",
       "total_cases                   11627487.0\n",
       "total_deaths                    103104.0\n",
       "gdp_per_capita                  34272.36\n",
       "human_development_index            0.904\n",
       "diabetes_prevalence                 7.17\n",
       "female_smokers                      27.4\n",
       "male_smokers                        31.4\n",
       "hospital_beds_per_thousand          2.97\n",
       "country                            spain\n",
       "Name: 152851, dtype: object"
      ]
     },
     "execution_count": 34,
     "metadata": {},
     "output_type": "execute_result"
    }
   ],
   "source": [
    "statistical_data_spain"
   ]
  },
  {
   "cell_type": "code",
   "execution_count": 35,
   "id": "2ce87a8b",
   "metadata": {},
   "outputs": [],
   "source": [
    " df = pd.DataFrame(data = [statistical_data_australia, statistical_data_germany, statistical_data_france, statistical_data_spain, statistical_data_canada, statistical_data_iran])\n",
    "df.to_csv('statistical_data.csv')"
   ]
  },
  {
   "cell_type": "code",
   "execution_count": 36,
   "id": "93922e63",
   "metadata": {},
   "outputs": [
    {
     "data": {
      "text/html": [
       "<div>\n",
       "<style scoped>\n",
       "    .dataframe tbody tr th:only-of-type {\n",
       "        vertical-align: middle;\n",
       "    }\n",
       "\n",
       "    .dataframe tbody tr th {\n",
       "        vertical-align: top;\n",
       "    }\n",
       "\n",
       "    .dataframe thead th {\n",
       "        text-align: right;\n",
       "    }\n",
       "</style>\n",
       "<table border=\"1\" class=\"dataframe\">\n",
       "  <thead>\n",
       "    <tr style=\"text-align: right;\">\n",
       "      <th></th>\n",
       "      <th>population</th>\n",
       "      <th>population_density</th>\n",
       "      <th>total_cases</th>\n",
       "      <th>total_deaths</th>\n",
       "      <th>gdp_per_capita</th>\n",
       "      <th>human_development_index</th>\n",
       "      <th>diabetes_prevalence</th>\n",
       "      <th>female_smokers</th>\n",
       "      <th>male_smokers</th>\n",
       "      <th>hospital_beds_per_thousand</th>\n",
       "      <th>country</th>\n",
       "    </tr>\n",
       "  </thead>\n",
       "  <tbody>\n",
       "    <tr>\n",
       "      <th>10249</th>\n",
       "      <td>25788217.0</td>\n",
       "      <td>3.202</td>\n",
       "      <td>5459012.0</td>\n",
       "      <td>6804.0</td>\n",
       "      <td>44648.710</td>\n",
       "      <td>0.944</td>\n",
       "      <td>5.07</td>\n",
       "      <td>13.0</td>\n",
       "      <td>16.5</td>\n",
       "      <td>3.84</td>\n",
       "      <td>australlia</td>\n",
       "    </tr>\n",
       "    <tr>\n",
       "      <th>61797</th>\n",
       "      <td>83900471.0</td>\n",
       "      <td>237.016</td>\n",
       "      <td>23459628.0</td>\n",
       "      <td>132960.0</td>\n",
       "      <td>45229.245</td>\n",
       "      <td>0.947</td>\n",
       "      <td>8.31</td>\n",
       "      <td>28.2</td>\n",
       "      <td>33.1</td>\n",
       "      <td>8.00</td>\n",
       "      <td>germany</td>\n",
       "    </tr>\n",
       "    <tr>\n",
       "      <th>57905</th>\n",
       "      <td>67422000.0</td>\n",
       "      <td>122.578</td>\n",
       "      <td>27844621.0</td>\n",
       "      <td>144274.0</td>\n",
       "      <td>38605.671</td>\n",
       "      <td>0.901</td>\n",
       "      <td>4.77</td>\n",
       "      <td>30.1</td>\n",
       "      <td>35.6</td>\n",
       "      <td>5.98</td>\n",
       "      <td>france</td>\n",
       "    </tr>\n",
       "    <tr>\n",
       "      <th>152851</th>\n",
       "      <td>46745211.0</td>\n",
       "      <td>93.105</td>\n",
       "      <td>11627487.0</td>\n",
       "      <td>103104.0</td>\n",
       "      <td>34272.360</td>\n",
       "      <td>0.904</td>\n",
       "      <td>7.17</td>\n",
       "      <td>27.4</td>\n",
       "      <td>31.4</td>\n",
       "      <td>2.97</td>\n",
       "      <td>spain</td>\n",
       "    </tr>\n",
       "    <tr>\n",
       "      <th>47689</th>\n",
       "      <td>104258327.0</td>\n",
       "      <td>97.999</td>\n",
       "      <td>511977.0</td>\n",
       "      <td>24522.0</td>\n",
       "      <td>10550.206</td>\n",
       "      <td>0.707</td>\n",
       "      <td>17.31</td>\n",
       "      <td>0.2</td>\n",
       "      <td>50.1</td>\n",
       "      <td>1.60</td>\n",
       "      <td>egypt</td>\n",
       "    </tr>\n",
       "    <tr>\n",
       "      <th>77818</th>\n",
       "      <td>85028760.0</td>\n",
       "      <td>49.831</td>\n",
       "      <td>7208968.0</td>\n",
       "      <td>140854.0</td>\n",
       "      <td>19082.620</td>\n",
       "      <td>0.783</td>\n",
       "      <td>9.59</td>\n",
       "      <td>0.8</td>\n",
       "      <td>21.1</td>\n",
       "      <td>1.50</td>\n",
       "      <td>iran</td>\n",
       "    </tr>\n",
       "  </tbody>\n",
       "</table>\n",
       "</div>"
      ],
      "text/plain": [
       "         population  population_density  total_cases  total_deaths  \\\n",
       "10249    25788217.0               3.202    5459012.0        6804.0   \n",
       "61797    83900471.0             237.016   23459628.0      132960.0   \n",
       "57905    67422000.0             122.578   27844621.0      144274.0   \n",
       "152851   46745211.0              93.105   11627487.0      103104.0   \n",
       "47689   104258327.0              97.999     511977.0       24522.0   \n",
       "77818    85028760.0              49.831    7208968.0      140854.0   \n",
       "\n",
       "        gdp_per_capita  human_development_index  diabetes_prevalence  \\\n",
       "10249        44648.710                    0.944                 5.07   \n",
       "61797        45229.245                    0.947                 8.31   \n",
       "57905        38605.671                    0.901                 4.77   \n",
       "152851       34272.360                    0.904                 7.17   \n",
       "47689        10550.206                    0.707                17.31   \n",
       "77818        19082.620                    0.783                 9.59   \n",
       "\n",
       "        female_smokers  male_smokers  hospital_beds_per_thousand     country  \n",
       "10249             13.0          16.5                        3.84  australlia  \n",
       "61797             28.2          33.1                        8.00     germany  \n",
       "57905             30.1          35.6                        5.98      france  \n",
       "152851            27.4          31.4                        2.97       spain  \n",
       "47689              0.2          50.1                        1.60       egypt  \n",
       "77818              0.8          21.1                        1.50        iran  "
      ]
     },
     "execution_count": 36,
     "metadata": {},
     "output_type": "execute_result"
    }
   ],
   "source": [
    "df"
   ]
  },
  {
   "cell_type": "code",
   "execution_count": 50,
   "id": "f1c3feb7",
   "metadata": {},
   "outputs": [],
   "source": [
    "ts_data_spain = spain_data[timeseries_columns]\n",
    "ts_data_spain.to_csv('spain_data.csv')\n",
    "ts_data_germany = germany_data[timeseries_columns]\n",
    "ts_data_germany.to_csv('germany_data.csv')\n",
    "ts_data_france = france_data[timeseries_columns]\n",
    "ts_data_france.to_csv('france_data.csv')\n",
    "ts_data_australia = australia_data[timeseries_columns]\n",
    "ts_data_australia.to_csv('australia_data.csv')\n",
    "\n",
    "ts_data_iran = iran_data[timeseries_columns]\n",
    "ts_data_iran.to_csv('iran_data.csv')\n",
    "\n",
    "ts_data_canada = canada_data[timeseries_columns]\n",
    "ts_data_canada.to_csv('egypt_data.csv')\n"
   ]
  },
  {
   "cell_type": "code",
   "execution_count": 51,
   "id": "97a4130e",
   "metadata": {},
   "outputs": [
    {
     "data": {
      "text/plain": [
       "date                         0\n",
       "total_cases                  0\n",
       "new_cases                    0\n",
       "total_deaths                23\n",
       "new_deaths                  23\n",
       "total_tests                790\n",
       "new_tests                  795\n",
       "people_vaccinated          721\n",
       "people_fully_vaccinated    725\n",
       "new_vaccinations           786\n",
       "dtype: int64"
      ]
     },
     "execution_count": 51,
     "metadata": {},
     "output_type": "execute_result"
    }
   ],
   "source": [
    "ts_data_canada.isnull().sum()"
   ]
  },
  {
   "cell_type": "code",
   "execution_count": 52,
   "id": "57c62180",
   "metadata": {},
   "outputs": [
    {
     "data": {
      "text/plain": [
       "date                         0\n",
       "total_cases                  0\n",
       "new_cases                    2\n",
       "total_deaths                35\n",
       "new_deaths                  38\n",
       "total_tests                 41\n",
       "new_tests                   42\n",
       "people_vaccinated          401\n",
       "people_fully_vaccinated    403\n",
       "new_vaccinations           406\n",
       "dtype: int64"
      ]
     },
     "execution_count": 52,
     "metadata": {},
     "output_type": "execute_result"
    }
   ],
   "source": [
    "ts_data_australia.isnull().sum()"
   ]
  },
  {
   "cell_type": "code",
   "execution_count": 53,
   "id": "b1283b9a",
   "metadata": {},
   "outputs": [
    {
     "data": {
      "text/plain": [
       "date                         0\n",
       "total_cases                  0\n",
       "new_cases                   10\n",
       "total_deaths                22\n",
       "new_deaths                  29\n",
       "total_tests                114\n",
       "new_tests                  114\n",
       "people_vaccinated          339\n",
       "people_fully_vaccinated    345\n",
       "new_vaccinations           340\n",
       "dtype: int64"
      ]
     },
     "execution_count": 53,
     "metadata": {},
     "output_type": "execute_result"
    }
   ],
   "source": [
    "ts_data_france.isnull().sum()"
   ]
  },
  {
   "cell_type": "code",
   "execution_count": 40,
   "id": "d751130e",
   "metadata": {},
   "outputs": [],
   "source": [
    "df = pd.DataFrame(data = [ts_data_australia, ts_data_canada, ts_data_france, ts_data_germany, ts_data_iran, ts_data_spain])\n",
    "df.to_csv('timeseries_data.csv')"
   ]
  },
  {
   "cell_type": "code",
   "execution_count": 41,
   "id": "44beb204",
   "metadata": {},
   "outputs": [
    {
     "data": {
      "text/html": [
       "<div>\n",
       "<style scoped>\n",
       "    .dataframe tbody tr th:only-of-type {\n",
       "        vertical-align: middle;\n",
       "    }\n",
       "\n",
       "    .dataframe tbody tr th {\n",
       "        vertical-align: top;\n",
       "    }\n",
       "\n",
       "    .dataframe thead th {\n",
       "        text-align: right;\n",
       "    }\n",
       "</style>\n",
       "<table border=\"1\" class=\"dataframe\">\n",
       "  <thead>\n",
       "    <tr style=\"text-align: right;\">\n",
       "      <th></th>\n",
       "      <th>date</th>\n",
       "      <th>total_cases</th>\n",
       "      <th>new_cases</th>\n",
       "      <th>total_deaths</th>\n",
       "      <th>new_deaths</th>\n",
       "      <th>total_tests</th>\n",
       "      <th>new_tests</th>\n",
       "      <th>people_vaccinated</th>\n",
       "      <th>people_fully_vaccinated</th>\n",
       "      <th>new_vaccinations</th>\n",
       "      <th>country</th>\n",
       "    </tr>\n",
       "  </thead>\n",
       "  <tbody>\n",
       "    <tr>\n",
       "      <th>10249</th>\n",
       "      <td>2022-04-18</td>\n",
       "      <td>5459012.0</td>\n",
       "      <td>42032.0</td>\n",
       "      <td>6804.0</td>\n",
       "      <td>17.0</td>\n",
       "      <td>68374034.0</td>\n",
       "      <td>59415.0</td>\n",
       "      <td>22253815.0</td>\n",
       "      <td>21441137.0</td>\n",
       "      <td>4688.0</td>\n",
       "      <td>australlia</td>\n",
       "    </tr>\n",
       "    <tr>\n",
       "      <th>47689</th>\n",
       "      <td>2022-04-18</td>\n",
       "      <td>511977.0</td>\n",
       "      <td>0.0</td>\n",
       "      <td>24522.0</td>\n",
       "      <td>0.0</td>\n",
       "      <td>NaN</td>\n",
       "      <td>NaN</td>\n",
       "      <td>NaN</td>\n",
       "      <td>NaN</td>\n",
       "      <td>NaN</td>\n",
       "      <td>egypt</td>\n",
       "    </tr>\n",
       "    <tr>\n",
       "      <th>57905</th>\n",
       "      <td>2022-04-18</td>\n",
       "      <td>27844621.0</td>\n",
       "      <td>19810.0</td>\n",
       "      <td>144274.0</td>\n",
       "      <td>48.0</td>\n",
       "      <td>NaN</td>\n",
       "      <td>NaN</td>\n",
       "      <td>NaN</td>\n",
       "      <td>NaN</td>\n",
       "      <td>NaN</td>\n",
       "      <td>france</td>\n",
       "    </tr>\n",
       "    <tr>\n",
       "      <th>61797</th>\n",
       "      <td>2022-04-18</td>\n",
       "      <td>23459628.0</td>\n",
       "      <td>22483.0</td>\n",
       "      <td>132960.0</td>\n",
       "      <td>7.0</td>\n",
       "      <td>NaN</td>\n",
       "      <td>NaN</td>\n",
       "      <td>63726513.0</td>\n",
       "      <td>63262949.0</td>\n",
       "      <td>1323.0</td>\n",
       "      <td>germany</td>\n",
       "    </tr>\n",
       "    <tr>\n",
       "      <th>77818</th>\n",
       "      <td>2022-04-18</td>\n",
       "      <td>7208968.0</td>\n",
       "      <td>2009.0</td>\n",
       "      <td>140854.0</td>\n",
       "      <td>25.0</td>\n",
       "      <td>50484026.0</td>\n",
       "      <td>NaN</td>\n",
       "      <td>64203988.0</td>\n",
       "      <td>57374503.0</td>\n",
       "      <td>71817.0</td>\n",
       "      <td>iran</td>\n",
       "    </tr>\n",
       "    <tr>\n",
       "      <th>152851</th>\n",
       "      <td>2022-04-18</td>\n",
       "      <td>11627487.0</td>\n",
       "      <td>0.0</td>\n",
       "      <td>103104.0</td>\n",
       "      <td>0.0</td>\n",
       "      <td>NaN</td>\n",
       "      <td>NaN</td>\n",
       "      <td>NaN</td>\n",
       "      <td>NaN</td>\n",
       "      <td>NaN</td>\n",
       "      <td>spain</td>\n",
       "    </tr>\n",
       "  </tbody>\n",
       "</table>\n",
       "</div>"
      ],
      "text/plain": [
       "              date  total_cases  new_cases  total_deaths  new_deaths  \\\n",
       "10249   2022-04-18    5459012.0    42032.0        6804.0        17.0   \n",
       "47689   2022-04-18     511977.0        0.0       24522.0         0.0   \n",
       "57905   2022-04-18   27844621.0    19810.0      144274.0        48.0   \n",
       "61797   2022-04-18   23459628.0    22483.0      132960.0         7.0   \n",
       "77818   2022-04-18    7208968.0     2009.0      140854.0        25.0   \n",
       "152851  2022-04-18   11627487.0        0.0      103104.0         0.0   \n",
       "\n",
       "        total_tests  new_tests  people_vaccinated  people_fully_vaccinated  \\\n",
       "10249    68374034.0    59415.0         22253815.0               21441137.0   \n",
       "47689           NaN        NaN                NaN                      NaN   \n",
       "57905           NaN        NaN                NaN                      NaN   \n",
       "61797           NaN        NaN         63726513.0               63262949.0   \n",
       "77818    50484026.0        NaN         64203988.0               57374503.0   \n",
       "152851          NaN        NaN                NaN                      NaN   \n",
       "\n",
       "        new_vaccinations     country  \n",
       "10249             4688.0  australlia  \n",
       "47689                NaN       egypt  \n",
       "57905                NaN      france  \n",
       "61797             1323.0     germany  \n",
       "77818            71817.0        iran  \n",
       "152851               NaN       spain  "
      ]
     },
     "execution_count": 41,
     "metadata": {},
     "output_type": "execute_result"
    }
   ],
   "source": [
    "df"
   ]
  },
  {
   "cell_type": "code",
   "execution_count": 13,
   "id": "76b5cd63",
   "metadata": {},
   "outputs": [
    {
     "data": {
      "text/plain": [
       "Pipeline(steps=[('polynomialfeatures', PolynomialFeatures(degree=9)),\n",
       "                ('linearregression', LinearRegression())])"
      ]
     },
     "execution_count": 13,
     "metadata": {},
     "output_type": "execute_result"
    }
   ],
   "source": [
    "from sklearn.preprocessing import PolynomialFeatures\n",
    "from sklearn.pipeline import make_pipeline\n",
    "from sklearn.linear_model import LinearRegression\n",
    "\n",
    "degree = 9\n",
    "\n",
    "regression_model = make_pipeline(PolynomialFeatures(degree), LinearRegression())\n",
    "\n",
    "X = np.array(cleaned_iran_data.index)\n",
    "y = cleaned_iran_data['new_tests']\n",
    "\n",
    "regression_model.fit(X.reshape(-1, 1), y)"
   ]
  },
  {
   "cell_type": "code",
   "execution_count": 14,
   "id": "d03c7118",
   "metadata": {},
   "outputs": [
    {
     "name": "stderr",
     "output_type": "stream",
     "text": [
      "<ipython-input-14-cacaea2b120e>:5: SettingWithCopyWarning: \n",
      "A value is trying to be set on a copy of a slice from a DataFrame.\n",
      "Try using .loc[row_indexer,col_indexer] = value instead\n",
      "\n",
      "See the caveats in the documentation: https://pandas.pydata.org/pandas-docs/stable/user_guide/indexing.html#returning-a-view-versus-a-copy\n",
      "  cleaned_iran_data['new_tests_reg'] = new_tests_reg\n"
     ]
    },
    {
     "data": {
      "image/png": "[encoded data removed]",
      "text/plain": [
       "<Figure size 432x288 with 1 Axes>"
      ]
     },
     "metadata": {
      "needs_background": "light"
     },
     "output_type": "display_data"
    }
   ],
   "source": [
    "plt.plot(X, y)\n",
    "X_seq = np.linspace(0,cleaned_iran_data.shape[0], 790).reshape(-1, 1)\n",
    "new_tests_reg = regression_model.predict(X_seq)\n",
    "plt.plot(X_seq, new_tests_reg, color = 'red')\n",
    "cleaned_iran_data['new_tests_reg'] = new_tests_reg\n",
    "plt.show()"
   ]
  },
  {
   "cell_type": "code",
   "execution_count": 15,
   "id": "8aae03f1",
   "metadata": {},
   "outputs": [
    {
     "data": {
      "text/html": [
       "<div>\n",
       "<style scoped>\n",
       "    .dataframe tbody tr th:only-of-type {\n",
       "        vertical-align: middle;\n",
       "    }\n",
       "\n",
       "    .dataframe tbody tr th {\n",
       "        vertical-align: top;\n",
       "    }\n",
       "\n",
       "    .dataframe thead th {\n",
       "        text-align: right;\n",
       "    }\n",
       "</style>\n",
       "<table border=\"1\" class=\"dataframe\">\n",
       "  <thead>\n",
       "    <tr style=\"text-align: right;\">\n",
       "      <th></th>\n",
       "      <th>date</th>\n",
       "      <th>total_cases</th>\n",
       "      <th>new_cases</th>\n",
       "      <th>total_deaths</th>\n",
       "      <th>new_deaths</th>\n",
       "      <th>new_tests</th>\n",
       "      <th>new_tests_reg</th>\n",
       "    </tr>\n",
       "  </thead>\n",
       "  <tbody>\n",
       "    <tr>\n",
       "      <th>29</th>\n",
       "      <td>2020-02-19</td>\n",
       "      <td>2.0</td>\n",
       "      <td>2.0</td>\n",
       "      <td>2.0</td>\n",
       "      <td>2.0</td>\n",
       "      <td>10418.0</td>\n",
       "      <td>14565.162432</td>\n",
       "    </tr>\n",
       "    <tr>\n",
       "      <th>30</th>\n",
       "      <td>2020-02-20</td>\n",
       "      <td>5.0</td>\n",
       "      <td>3.0</td>\n",
       "      <td>2.0</td>\n",
       "      <td>0.0</td>\n",
       "      <td>10418.0</td>\n",
       "      <td>14565.162432</td>\n",
       "    </tr>\n",
       "    <tr>\n",
       "      <th>31</th>\n",
       "      <td>2020-02-21</td>\n",
       "      <td>18.0</td>\n",
       "      <td>13.0</td>\n",
       "      <td>4.0</td>\n",
       "      <td>2.0</td>\n",
       "      <td>10418.0</td>\n",
       "      <td>14565.162435</td>\n",
       "    </tr>\n",
       "    <tr>\n",
       "      <th>32</th>\n",
       "      <td>2020-02-22</td>\n",
       "      <td>28.0</td>\n",
       "      <td>10.0</td>\n",
       "      <td>5.0</td>\n",
       "      <td>1.0</td>\n",
       "      <td>10418.0</td>\n",
       "      <td>14565.162453</td>\n",
       "    </tr>\n",
       "    <tr>\n",
       "      <th>33</th>\n",
       "      <td>2020-02-23</td>\n",
       "      <td>43.0</td>\n",
       "      <td>15.0</td>\n",
       "      <td>8.0</td>\n",
       "      <td>3.0</td>\n",
       "      <td>10418.0</td>\n",
       "      <td>14565.162521</td>\n",
       "    </tr>\n",
       "  </tbody>\n",
       "</table>\n",
       "</div>"
      ],
      "text/plain": [
       "         date  total_cases  new_cases  total_deaths  new_deaths  new_tests  \\\n",
       "29 2020-02-19          2.0        2.0           2.0         2.0    10418.0   \n",
       "30 2020-02-20          5.0        3.0           2.0         0.0    10418.0   \n",
       "31 2020-02-21         18.0       13.0           4.0         2.0    10418.0   \n",
       "32 2020-02-22         28.0       10.0           5.0         1.0    10418.0   \n",
       "33 2020-02-23         43.0       15.0           8.0         3.0    10418.0   \n",
       "\n",
       "    new_tests_reg  \n",
       "29   14565.162432  \n",
       "30   14565.162432  \n",
       "31   14565.162435  \n",
       "32   14565.162453  \n",
       "33   14565.162521  "
      ]
     },
     "execution_count": 15,
     "metadata": {},
     "output_type": "execute_result"
    }
   ],
   "source": [
    "cleaned_iran_data.to_csv(\"covid19_iran.csv\")\n",
    "cleaned_iran_data.head()"
   ]
  },
  {
   "cell_type": "code",
   "execution_count": 16,
   "id": "a69ec3bc",
   "metadata": {},
   "outputs": [
    {
     "name": "stdout",
     "output_type": "stream",
     "text": [
      "current error : 72484090.26501708, deg : 1\n"
     ]
    },
    {
     "ename": "NameError",
     "evalue": "name 'err' is not defined",
     "output_type": "error",
     "traceback": [
      "\u001b[1;31m---------------------------------------------------------------------------\u001b[0m",
      "\u001b[1;31mNameError\u001b[0m                                 Traceback (most recent call last)",
      "\u001b[1;32m<ipython-input-16-7955a258abfd>\u001b[0m in \u001b[0;36m<module>\u001b[1;34m\u001b[0m\n\u001b[0;32m     12\u001b[0m     \u001b[0mcurr_err\u001b[0m \u001b[1;33m=\u001b[0m \u001b[0mmean_squared_error\u001b[0m\u001b[1;33m(\u001b[0m\u001b[0my_pred\u001b[0m\u001b[1;33m,\u001b[0m \u001b[0my\u001b[0m\u001b[1;33m)\u001b[0m\u001b[1;33m\u001b[0m\u001b[1;33m\u001b[0m\u001b[0m\n\u001b[0;32m     13\u001b[0m     \u001b[0mprint\u001b[0m\u001b[1;33m(\u001b[0m\u001b[1;34mf\"current error : {curr_err}, deg : {deg}\"\u001b[0m\u001b[1;33m)\u001b[0m\u001b[1;33m\u001b[0m\u001b[1;33m\u001b[0m\u001b[0m\n\u001b[1;32m---> 14\u001b[1;33m     \u001b[1;32mif\u001b[0m \u001b[0mcurr_err\u001b[0m \u001b[1;33m<\u001b[0m \u001b[0merr\u001b[0m\u001b[1;33m:\u001b[0m\u001b[1;33m\u001b[0m\u001b[1;33m\u001b[0m\u001b[0m\n\u001b[0m\u001b[0;32m     15\u001b[0m         \u001b[0mprint\u001b[0m\u001b[1;33m(\u001b[0m\u001b[1;34mf\"new deg found! {deg}\"\u001b[0m\u001b[1;33m)\u001b[0m\u001b[1;33m\u001b[0m\u001b[1;33m\u001b[0m\u001b[0m\n\u001b[0;32m     16\u001b[0m         \u001b[0mbest_deg\u001b[0m \u001b[1;33m=\u001b[0m \u001b[0mdeg\u001b[0m\u001b[1;33m\u001b[0m\u001b[1;33m\u001b[0m\u001b[0m\n",
      "\u001b[1;31mNameError\u001b[0m: name 'err' is not defined"
     ]
    }
   ],
   "source": [
    "best_deg = 10007520573471\n",
    "best_model = np.nan\n",
    "from sklearn.metrics import mean_squared_error\n",
    "for deg in range(1, 25):\n",
    "\n",
    "    regression_model = make_pipeline(PolynomialFeatures(deg), LinearRegression())\n",
    "    X = np.array(cleaned_iran_data.index)\n",
    "    y = cleaned_iran_data['new_cases']\n",
    "    regression_model.fit(X.reshape(-1, 1), y)\n",
    "    X_seq = np.linspace(0,cleaned_iran_data.shape[0], 790).reshape(-1, 1)\n",
    "    y_pred = regression_model.predict(X_seq)\n",
    "    curr_err = mean_squared_error(y_pred, y)\n",
    "    print(f\"current error : {curr_err}, deg : {deg}\")\n",
    "    if curr_err < err:\n",
    "        print(f\"new deg found! {deg}\")\n",
    "        best_deg = deg\n",
    "        best_model = regression_model\n",
    "        err = curr_err\n",
    "\n",
    "print(best_deg)"
   ]
  },
  {
   "cell_type": "code",
   "execution_count": 17,
   "id": "887b7bdc",
   "metadata": {},
   "outputs": [
    {
     "ename": "AttributeError",
     "evalue": "'float' object has no attribute 'predict'",
     "output_type": "error",
     "traceback": [
      "\u001b[1;31m---------------------------------------------------------------------------\u001b[0m",
      "\u001b[1;31mAttributeError\u001b[0m                            Traceback (most recent call last)",
      "\u001b[1;32m<ipython-input-17-01e2fe826cf7>\u001b[0m in \u001b[0;36m<module>\u001b[1;34m\u001b[0m\n\u001b[0;32m      1\u001b[0m \u001b[0mplt\u001b[0m\u001b[1;33m.\u001b[0m\u001b[0mplot\u001b[0m\u001b[1;33m(\u001b[0m\u001b[0mX\u001b[0m\u001b[1;33m,\u001b[0m \u001b[0my\u001b[0m\u001b[1;33m)\u001b[0m\u001b[1;33m\u001b[0m\u001b[1;33m\u001b[0m\u001b[0m\n\u001b[0;32m      2\u001b[0m \u001b[0mX_seq\u001b[0m \u001b[1;33m=\u001b[0m \u001b[0mnp\u001b[0m\u001b[1;33m.\u001b[0m\u001b[0mlinspace\u001b[0m\u001b[1;33m(\u001b[0m\u001b[1;36m0\u001b[0m\u001b[1;33m,\u001b[0m\u001b[0mcleaned_iran_data\u001b[0m\u001b[1;33m.\u001b[0m\u001b[0mshape\u001b[0m\u001b[1;33m[\u001b[0m\u001b[1;36m0\u001b[0m\u001b[1;33m]\u001b[0m\u001b[1;33m,\u001b[0m \u001b[1;36m790\u001b[0m\u001b[1;33m)\u001b[0m\u001b[1;33m.\u001b[0m\u001b[0mreshape\u001b[0m\u001b[1;33m(\u001b[0m\u001b[1;33m-\u001b[0m\u001b[1;36m1\u001b[0m\u001b[1;33m,\u001b[0m \u001b[1;36m1\u001b[0m\u001b[1;33m)\u001b[0m\u001b[1;33m\u001b[0m\u001b[1;33m\u001b[0m\u001b[0m\n\u001b[1;32m----> 3\u001b[1;33m \u001b[0mnew_tests_reg\u001b[0m \u001b[1;33m=\u001b[0m \u001b[0mbest_model\u001b[0m\u001b[1;33m.\u001b[0m\u001b[0mpredict\u001b[0m\u001b[1;33m(\u001b[0m\u001b[0mX_seq\u001b[0m\u001b[1;33m)\u001b[0m\u001b[1;33m\u001b[0m\u001b[1;33m\u001b[0m\u001b[0m\n\u001b[0m\u001b[0;32m      4\u001b[0m \u001b[0mplt\u001b[0m\u001b[1;33m.\u001b[0m\u001b[0mplot\u001b[0m\u001b[1;33m(\u001b[0m\u001b[0mX_seq\u001b[0m\u001b[1;33m,\u001b[0m \u001b[0mnew_tests_reg\u001b[0m\u001b[1;33m,\u001b[0m \u001b[0mcolor\u001b[0m \u001b[1;33m=\u001b[0m \u001b[1;34m'red'\u001b[0m\u001b[1;33m)\u001b[0m\u001b[1;33m\u001b[0m\u001b[1;33m\u001b[0m\u001b[0m\n\u001b[0;32m      5\u001b[0m \u001b[0mcleaned_iran_data\u001b[0m\u001b[1;33m[\u001b[0m\u001b[1;34m'new_tests_reg'\u001b[0m\u001b[1;33m]\u001b[0m \u001b[1;33m=\u001b[0m \u001b[0mnew_tests_reg\u001b[0m\u001b[1;33m\u001b[0m\u001b[1;33m\u001b[0m\u001b[0m\n",
      "\u001b[1;31mAttributeError\u001b[0m: 'float' object has no attribute 'predict'"
     ]
    },
    {
     "data": {
      "image/png": "[encoded data removed]",
      "text/plain": [
       "<Figure size 432x288 with 1 Axes>"
      ]
     },
     "metadata": {
      "needs_background": "light"
     },
     "output_type": "display_data"
    }
   ],
   "source": [
    "plt.plot(X, y)\n",
    "X_seq = np.linspace(0,cleaned_iran_data.shape[0], 790).reshape(-1, 1)\n",
    "new_tests_reg = best_model.predict(X_seq)\n",
    "plt.plot(X_seq, new_tests_reg, color = 'red')\n",
    "cleaned_iran_data['new_tests_reg'] = new_tests_reg\n",
    "plt.show()"
   ]
  },
  {
   "cell_type": "code",
   "execution_count": 78,
   "id": "4db76062",
   "metadata": {},
   "outputs": [
    {
     "name": "stderr",
     "output_type": "stream",
     "text": [
      "/home/poj/anaconda3/lib/python3.8/site-packages/sklearn/linear_model/_ridge.py:147: LinAlgWarning: Ill-conditioned matrix (rcond=1.06185e-54): result may not be accurate.\n",
      "  return linalg.solve(A, Xy, sym_pos=True,\n",
      "/tmp/ipykernel_34866/700748534.py:14: SettingWithCopyWarning: \n",
      "A value is trying to be set on a copy of a slice from a DataFrame.\n",
      "Try using .loc[row_indexer,col_indexer] = value instead\n",
      "\n",
      "See the caveats in the documentation: https://pandas.pydata.org/pandas-docs/stable/user_guide/indexing.html#returning-a-view-versus-a-copy\n",
      "  cleaned_iran_data['new_tests_reg'] = new_tests_reg\n"
     ]
    },
    {
     "data": {
      "image/png": "[encoded data removed]",
      "text/plain": [
       "<Figure size 432x288 with 1 Axes>"
      ]
     },
     "metadata": {
      "needs_background": "light"
     },
     "output_type": "display_data"
    }
   ],
   "source": [
    "from sklearn.svm import SVR\n",
    "from sklearn.ensemble import RandomForestRegressor\n",
    "from sklearn.linear_model import Ridge, ARDRegression, ElasticNet, Lasso\n",
    "from sklearn.gaussian_process import GaussianProcessRegressor\n",
    "model = make_pipeline(PolynomialFeatures(9), Ridge())\n",
    "#model = GaussianProcessRegressor()\n",
    "X = np.array(cleaned_iran_data.index)\n",
    "y = cleaned_iran_data['new_cases']\n",
    "model.fit(X.reshape(-1, 1), y)\n",
    "plt.plot(X, y)\n",
    "X_seq = np.linspace(0,790, 790).reshape(-1, 1)\n",
    "new_tests_reg = model.predict(X_seq)\n",
    "plt.plot(X_seq, new_tests_reg, color = 'red')\n",
    "cleaned_iran_data['new_tests_reg'] = new_tests_reg\n",
    "#print(mean_squared_error(new_tests_reg, y))\n",
    "plt.show()"
   ]
  },
  {
   "cell_type": "code",
   "execution_count": 18,
   "id": "0ebc2438",
   "metadata": {},
   "outputs": [],
   "source": [
    "cleaned_iran_data.to_csv(\"clean_data.csv\")"
   ]
  },
  {
   "cell_type": "markdown",
   "id": "d6064cc7",
   "metadata": {},
   "source": [
    "# Data Visualization"
   ]
  },
  {
   "cell_type": "code",
   "execution_count": 60,
   "id": "842157ae",
   "metadata": {},
   "outputs": [
    {
     "data": {
      "text/plain": [
       "[<matplotlib.lines.Line2D at 0x7f4759108370>]"
      ]
     },
     "execution_count": 60,
     "metadata": {},
     "output_type": "execute_result"
    },
    {
     "data": {
      "image/png": "[encoded data removed]",
      "text/plain": [
       "<Figure size 432x288 with 1 Axes>"
      ]
     },
     "metadata": {
      "needs_background": "light"
     },
     "output_type": "display_data"
    }
   ],
   "source": [
    "plt.plot(iran_data.index, iran_data['new_deaths'])"
   ]
  },
  {
   "cell_type": "code",
   "execution_count": 61,
   "id": "1d88e85d",
   "metadata": {},
   "outputs": [
    {
     "data": {
      "text/plain": [
       "[<matplotlib.lines.Line2D at 0x7f4759f73be0>]"
      ]
     },
     "execution_count": 61,
     "metadata": {},
     "output_type": "execute_result"
    },
    {
     "data": {
      "image/png": "[encoded data removed]",
      "text/plain": [
       "<Figure size 432x288 with 1 Axes>"
      ]
     },
     "metadata": {
      "needs_background": "light"
     },
     "output_type": "display_data"
    }
   ],
   "source": [
    "plt.plot(iran_data.index, iran_data['new_cases'])"
   ]
  }
 ],
 "metadata": {
  "kernelspec": {
   "display_name": "Python 3 (ipykernel)",
   "language": "python",
   "name": "python3"
  },
  "language_info": {
   "codemirror_mode": {
    "name": "ipython",
    "version": 3
   },
   "file_extension": ".py",
   "mimetype": "text/x-python",
   "name": "python",
   "nbconvert_exporter": "python",
   "pygments_lexer": "ipython3",
   "version": "3.8.5"
  }
 },
 "nbformat": 4,
 "nbformat_minor": 5
}
